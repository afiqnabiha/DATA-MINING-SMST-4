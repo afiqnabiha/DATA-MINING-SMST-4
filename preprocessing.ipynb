{
  "nbformat": 4,
  "nbformat_minor": 0,
  "metadata": {
    "colab": {
      "provenance": []
    },
    "kernelspec": {
      "name": "python3",
      "display_name": "Python 3"
    },
    "language_info": {
      "name": "python"
    }
  },
  "cells": [
    {
      "cell_type": "code",
      "execution_count": 1,
      "metadata": {
        "id": "_uMp1YdkH29E"
      },
      "outputs": [],
      "source": [
        "import numpy as np\n",
        "import matplotlib.pyplot as plt\n",
        "import pandas as pd"
      ]
    },
    {
      "cell_type": "code",
      "source": [
        "dataset = pd.read_csv('Data.csv')\n",
        "x = dataset.iloc[:, :-1].values\n",
        "y = dataset.iloc[:, -1].values"
      ],
      "metadata": {
        "id": "VDCzlg2wIgVK"
      },
      "execution_count": 3,
      "outputs": []
    },
    {
      "cell_type": "code",
      "source": [
        "print(x)"
      ],
      "metadata": {
        "colab": {
          "base_uri": "https://localhost:8080/"
        },
        "id": "S55GxcavIuIh",
        "outputId": "0dc6efd5-4acd-444c-a7cc-33b1128e2c5d"
      },
      "execution_count": 4,
      "outputs": [
        {
          "output_type": "stream",
          "name": "stdout",
          "text": [
            "[[1 '21st century classical' 0.9793333333333332 ... 75.3365\n",
            "  0.1037833333333333 27.83333333333333]\n",
            " [1 '432hz' 0.49478 ... 120.28566666666666 0.22175 52.5]\n",
            " [1 '8-bit' 0.762 ... 133.444 0.975 48.0]\n",
            " ...\n",
            " [1 'zouk' 0.2632611111111112 ... 101.9652222222222 0.8241111111111111\n",
            "  46.66666666666666]\n",
            " [0 'zurich indie' 0.993 ... 91.278 0.7390000000000001 0.0]\n",
            " [1 'zydeco' 0.4210384920634921 ... 126.36608730158731 0.8085436507936509\n",
            "  30.26190476190477]]\n"
          ]
        }
      ]
    },
    {
      "cell_type": "code",
      "source": [
        "print(y)\n"
      ],
      "metadata": {
        "colab": {
          "base_uri": "https://localhost:8080/"
        },
        "id": "mExFaiSrIzO0",
        "outputId": "15eaa902-5e05-4e32-92d1-63a43b97e98c"
      },
      "execution_count": 5,
      "outputs": [
        {
          "output_type": "stream",
          "name": "stdout",
          "text": [
            "[6 5 7 ... 5 7 7]\n"
          ]
        }
      ]
    },
    {
      "cell_type": "code",
      "source": [
        "from sklearn.impute import SimpleImputer\n",
        "imputer = SimpleImputer(missing_values=np.nan, strategy='mean')\n",
        "imputer.fit(x[:, 1:3])\n",
        "x[:, 1:3] = imputer.transform(x[:, 1:3])"
      ],
      "metadata": {
        "colab": {
          "base_uri": "https://localhost:8080/",
          "height": 380
        },
        "id": "0KAWGb8hI8rg",
        "outputId": "83786a6d-bab0-477e-b9ea-c9b761f3f231"
      },
      "execution_count": 6,
      "outputs": [
        {
          "output_type": "error",
          "ename": "ValueError",
          "evalue": "ignored",
          "traceback": [
            "\u001b[0;31m---------------------------------------------------------------------------\u001b[0m",
            "\u001b[0;31mValueError\u001b[0m                                Traceback (most recent call last)",
            "\u001b[0;32m<ipython-input-6-29649d3f3f64>\u001b[0m in \u001b[0;36m<cell line: 3>\u001b[0;34m()\u001b[0m\n\u001b[1;32m      1\u001b[0m \u001b[0;32mfrom\u001b[0m \u001b[0msklearn\u001b[0m\u001b[0;34m.\u001b[0m\u001b[0mimpute\u001b[0m \u001b[0;32mimport\u001b[0m \u001b[0mSimpleImputer\u001b[0m\u001b[0;34m\u001b[0m\u001b[0;34m\u001b[0m\u001b[0m\n\u001b[1;32m      2\u001b[0m \u001b[0mimputer\u001b[0m \u001b[0;34m=\u001b[0m \u001b[0mSimpleImputer\u001b[0m\u001b[0;34m(\u001b[0m\u001b[0mmissing_values\u001b[0m\u001b[0;34m=\u001b[0m\u001b[0mnp\u001b[0m\u001b[0;34m.\u001b[0m\u001b[0mnan\u001b[0m\u001b[0;34m,\u001b[0m \u001b[0mstrategy\u001b[0m\u001b[0;34m=\u001b[0m\u001b[0;34m'mean'\u001b[0m\u001b[0;34m)\u001b[0m\u001b[0;34m\u001b[0m\u001b[0;34m\u001b[0m\u001b[0m\n\u001b[0;32m----> 3\u001b[0;31m \u001b[0mimputer\u001b[0m\u001b[0;34m.\u001b[0m\u001b[0mfit\u001b[0m\u001b[0;34m(\u001b[0m\u001b[0mx\u001b[0m\u001b[0;34m[\u001b[0m\u001b[0;34m:\u001b[0m\u001b[0;34m,\u001b[0m \u001b[0;36m1\u001b[0m\u001b[0;34m:\u001b[0m\u001b[0;36m3\u001b[0m\u001b[0;34m]\u001b[0m\u001b[0;34m)\u001b[0m\u001b[0;34m\u001b[0m\u001b[0;34m\u001b[0m\u001b[0m\n\u001b[0m\u001b[1;32m      4\u001b[0m \u001b[0mx\u001b[0m\u001b[0;34m[\u001b[0m\u001b[0;34m:\u001b[0m\u001b[0;34m,\u001b[0m \u001b[0;36m1\u001b[0m\u001b[0;34m:\u001b[0m\u001b[0;36m3\u001b[0m\u001b[0;34m]\u001b[0m \u001b[0;34m=\u001b[0m \u001b[0mimputer\u001b[0m\u001b[0;34m.\u001b[0m\u001b[0mtransform\u001b[0m\u001b[0;34m(\u001b[0m\u001b[0mx\u001b[0m\u001b[0;34m[\u001b[0m\u001b[0;34m:\u001b[0m\u001b[0;34m,\u001b[0m \u001b[0;36m1\u001b[0m\u001b[0;34m:\u001b[0m\u001b[0;36m3\u001b[0m\u001b[0;34m]\u001b[0m\u001b[0;34m)\u001b[0m\u001b[0;34m\u001b[0m\u001b[0;34m\u001b[0m\u001b[0m\n",
            "\u001b[0;32m/usr/local/lib/python3.9/dist-packages/sklearn/impute/_base.py\u001b[0m in \u001b[0;36mfit\u001b[0;34m(self, X, y)\u001b[0m\n\u001b[1;32m    388\u001b[0m             )\n\u001b[1;32m    389\u001b[0m \u001b[0;34m\u001b[0m\u001b[0m\n\u001b[0;32m--> 390\u001b[0;31m         \u001b[0mX\u001b[0m \u001b[0;34m=\u001b[0m \u001b[0mself\u001b[0m\u001b[0;34m.\u001b[0m\u001b[0m_validate_input\u001b[0m\u001b[0;34m(\u001b[0m\u001b[0mX\u001b[0m\u001b[0;34m,\u001b[0m \u001b[0min_fit\u001b[0m\u001b[0;34m=\u001b[0m\u001b[0;32mTrue\u001b[0m\u001b[0;34m)\u001b[0m\u001b[0;34m\u001b[0m\u001b[0;34m\u001b[0m\u001b[0m\n\u001b[0m\u001b[1;32m    391\u001b[0m \u001b[0;34m\u001b[0m\u001b[0m\n\u001b[1;32m    392\u001b[0m         \u001b[0;31m# default fill_value is 0 for numerical input and \"missing_value\"\u001b[0m\u001b[0;34m\u001b[0m\u001b[0;34m\u001b[0m\u001b[0m\n",
            "\u001b[0;32m/usr/local/lib/python3.9/dist-packages/sklearn/impute/_base.py\u001b[0m in \u001b[0;36m_validate_input\u001b[0;34m(self, X, in_fit)\u001b[0m\n\u001b[1;32m    340\u001b[0m                     )\n\u001b[1;32m    341\u001b[0m                 )\n\u001b[0;32m--> 342\u001b[0;31m                 \u001b[0;32mraise\u001b[0m \u001b[0mnew_ve\u001b[0m \u001b[0;32mfrom\u001b[0m \u001b[0;32mNone\u001b[0m\u001b[0;34m\u001b[0m\u001b[0;34m\u001b[0m\u001b[0m\n\u001b[0m\u001b[1;32m    343\u001b[0m             \u001b[0;32melse\u001b[0m\u001b[0;34m:\u001b[0m\u001b[0;34m\u001b[0m\u001b[0;34m\u001b[0m\u001b[0m\n\u001b[1;32m    344\u001b[0m                 \u001b[0;32mraise\u001b[0m \u001b[0mve\u001b[0m\u001b[0;34m\u001b[0m\u001b[0;34m\u001b[0m\u001b[0m\n",
            "\u001b[0;31mValueError\u001b[0m: Cannot use mean strategy with non-numeric data:\ncould not convert string to float: '21st century classical'"
          ]
        }
      ]
    },
    {
      "cell_type": "code",
      "source": [
        "print(x)"
      ],
      "metadata": {
        "colab": {
          "base_uri": "https://localhost:8080/"
        },
        "id": "V8DUIbxBJDEp",
        "outputId": "6c2a1d73-a7cf-4dd2-99d0-9eb7269c34a0"
      },
      "execution_count": 7,
      "outputs": [
        {
          "output_type": "stream",
          "name": "stdout",
          "text": [
            "[[1 '21st century classical' 0.9793333333333332 ... 75.3365\n",
            "  0.1037833333333333 27.83333333333333]\n",
            " [1 '432hz' 0.49478 ... 120.28566666666666 0.22175 52.5]\n",
            " [1 '8-bit' 0.762 ... 133.444 0.975 48.0]\n",
            " ...\n",
            " [1 'zouk' 0.2632611111111112 ... 101.9652222222222 0.8241111111111111\n",
            "  46.66666666666666]\n",
            " [0 'zurich indie' 0.993 ... 91.278 0.7390000000000001 0.0]\n",
            " [1 'zydeco' 0.4210384920634921 ... 126.36608730158731 0.8085436507936509\n",
            "  30.26190476190477]]\n"
          ]
        }
      ]
    },
    {
      "cell_type": "code",
      "source": [
        "from sklearn.compose import ColumnTransformer\n",
        "from sklearn.preprocessing import OneHotEncoder\n",
        "ct = ColumnTransformer(transformers=[('encoder', OneHotEncoder(), [0])], remainder='passthrough')\n",
        "x = np.array(ct.fit_transform(x))"
      ],
      "metadata": {
        "id": "_k1BaDidJG3i"
      },
      "execution_count": 8,
      "outputs": []
    },
    {
      "cell_type": "code",
      "source": [
        "print(x)"
      ],
      "metadata": {
        "colab": {
          "base_uri": "https://localhost:8080/"
        },
        "id": "AVfU6qgWJKmq",
        "outputId": "bd6e969e-7529-4edd-f0c0-7df25c62c584"
      },
      "execution_count": 9,
      "outputs": [
        {
          "output_type": "stream",
          "name": "stdout",
          "text": [
            "[[0.0 1.0 '21st century classical' ... 75.3365 0.1037833333333333\n",
            "  27.83333333333333]\n",
            " [0.0 1.0 '432hz' ... 120.28566666666666 0.22175 52.5]\n",
            " [0.0 1.0 '8-bit' ... 133.444 0.975 48.0]\n",
            " ...\n",
            " [0.0 1.0 'zouk' ... 101.9652222222222 0.8241111111111111\n",
            "  46.66666666666666]\n",
            " [1.0 0.0 'zurich indie' ... 91.278 0.7390000000000001 0.0]\n",
            " [0.0 1.0 'zydeco' ... 126.36608730158731 0.8085436507936509\n",
            "  30.26190476190477]]\n"
          ]
        }
      ]
    },
    {
      "cell_type": "markdown",
      "source": [
        "from sklearn.preprocessing import LabelEncoder\n",
        "le = LabelEncoder()\n",
        "y = le.fit_transform(y)"
      ],
      "metadata": {
        "id": "7FjN1wb8JP7e"
      }
    },
    {
      "cell_type": "code",
      "source": [
        "print(y)"
      ],
      "metadata": {
        "colab": {
          "base_uri": "https://localhost:8080/"
        },
        "id": "yVsH1fRcJTHw",
        "outputId": "d9746944-907b-4cde-a12d-8567f598c77e"
      },
      "execution_count": 11,
      "outputs": [
        {
          "output_type": "stream",
          "name": "stdout",
          "text": [
            "[6 5 7 ... 5 7 7]\n"
          ]
        }
      ]
    },
    {
      "cell_type": "code",
      "source": [
        "from sklearn.model_selection import train_test_split\n",
        "x_train, x_test, y_train, y_test = train_test_split(x, y, test_size=0.2, random_state=1)"
      ],
      "metadata": {
        "id": "7gjYZOddJXA6"
      },
      "execution_count": 12,
      "outputs": []
    },
    {
      "cell_type": "code",
      "source": [
        "print(x_train)"
      ],
      "metadata": {
        "colab": {
          "base_uri": "https://localhost:8080/"
        },
        "id": "IKy8Ef66JbTZ",
        "outputId": "6c215c54-c494-46c7-afcb-6f716b27b5f2"
      },
      "execution_count": 13,
      "outputs": [
        {
          "output_type": "stream",
          "name": "stdout",
          "text": [
            "[[0.0 1.0 'chattanooga indie' ... 90.02600000000002 0.7490000000000001\n",
            "  49.0]\n",
            " [1.0 0.0 'arkansas hip hop' ... 149.661 0.3738333333333334\n",
            "  64.83333333333333]\n",
            " [0.0 1.0 \"british children's music\" ... 98.98 0.8109999999999999 53.0]\n",
            " ...\n",
            " [0.0 1.0 'french opera' ... 104.83025631919432 0.2548056102440976\n",
            "  7.898541211356338]\n",
            " [0.0 1.0 'bass music' ... 133.94493749999998 0.34908125 50.1875]\n",
            " [0.0 1.0 'folk rock italiano' ... 118.41497 0.6335200000000001 52.09]]\n"
          ]
        }
      ]
    },
    {
      "cell_type": "code",
      "source": [
        "print(x_test)"
      ],
      "metadata": {
        "colab": {
          "base_uri": "https://localhost:8080/"
        },
        "id": "6kSmKv_XJeT4",
        "outputId": "08364d2e-233d-42cc-ef6d-ceb3a2bafcc3"
      },
      "execution_count": 14,
      "outputs": [
        {
          "output_type": "stream",
          "name": "stdout",
          "text": [
            "[[0.0 1.0 'north carolina indie' ... 118.59472352941178\n",
            "  0.3206670588235294 48.08235294117648]\n",
            " [0.0 1.0 'romantico' ... 116.67451234567903 0.6190432098765432\n",
            "  33.59876543209876]\n",
            " [0.0 1.0 'orquesta tipica' ... 137.68318658008658 0.7117281385281385\n",
            "  3.6025974025974024]\n",
            " ...\n",
            " [0.0 1.0 'socal pop punk' ... 132.27985287894307 0.5494029176516834\n",
            "  47.14628163577034]\n",
            " [0.0 1.0 'birmingham metal' ... 126.4525332875458 0.3516306886446886\n",
            "  37.08631868131869]\n",
            " [0.0 1.0 'nz hardcore' ... 141.118 0.593 49.0]]\n"
          ]
        }
      ]
    },
    {
      "cell_type": "code",
      "source": [
        "print(y_train)"
      ],
      "metadata": {
        "colab": {
          "base_uri": "https://localhost:8080/"
        },
        "id": "M31kUctdJgnb",
        "outputId": "4ba9f841-9ab7-4321-90cb-c2a68ba58e83"
      },
      "execution_count": 15,
      "outputs": [
        {
          "output_type": "stream",
          "name": "stdout",
          "text": [
            "[7 7 8 ... 2 6 9]\n"
          ]
        }
      ]
    },
    {
      "cell_type": "code",
      "source": [
        "print(y_test)"
      ],
      "metadata": {
        "colab": {
          "base_uri": "https://localhost:8080/"
        },
        "id": "9jp1hjW1JioM",
        "outputId": "68813b5e-5e94-4035-8377-c79c79d7a889"
      },
      "execution_count": 16,
      "outputs": [
        {
          "output_type": "stream",
          "name": "stdout",
          "text": [
            "[ 9  5  5  8  7  5  0  1  7  7  7  9  9  4  7 11 10 11  9  4  7  1  7  0\n",
            "  7  4  2  7 11  9  9  3 10 11  6 11 11  5  6  1 11  5  7  6  9  4  0  2\n",
            "  1  3  5  2  7  5  7  8  7 11 11  9  2 11 10  9  7  2  2  7  5  2  2  9\n",
            "  9  8 11  1  1  1  4  7  7  5  9 10  8  1  2  2  2 11  6  5  2  1 11 11\n",
            "  9  9  0 11  8  5  7  2  4 11  9  9  1  0  9  7  7 10  0  6  5 11  7  5\n",
            "  9  5  9  7  2  5  1  9  7 10  7  7  0  9  3 10 10 11  9  7  7  7  7  3\n",
            "  7  0  6  7 11  9  7 11  6  7  2  2 11  7  1  5  3  7  7  3  7  1  7  5\n",
            "  7  7  6  7 11  6  5  0  7  9  2  6 10 11  7  0  7  7  2  9  1  1  2  7\n",
            " 11  7  1 11 11 10  3  6  7  4  7 11  0  5  2  3  7  2 10 11 11  5  5  0\n",
            "  7 10 10  2 10  4 11 10  2  6  5 10  9  9  2 11  7  4  0  8  9 11  4  9\n",
            "  9  3  2  8  9 10 11  9  0  9  7  6  7  8  7  7  9 10  9  4 11  7  7  7\n",
            " 10 11  7  9  7  5  2  0  9  2  0  7  7  7  9  7  5  5  7  5  7 11  1  6\n",
            " 10  4  7  4  3  2 11 11  7  7  9  7 10  9  1  7  9  9  7  7  5  5  9  9\n",
            "  6  0  6  0  7  2  1  8 11 11 11  4  5  7  5  3  3  6  9  8 11 11  7 10\n",
            "  6  7 11  7  2  7  9  7  9  3  7  8  5  9  7  8  7  4  7  5  1  7  0 10\n",
            "  5 11  2  4  9  7  1  2  7  9  6  1  3  9  9  7 11  9  7  5  4  4  4  7\n",
            "  2  2 11  7  2  7  9  7 11  5  7  1 11  1  1  7  9  2  6  7  5 10  8 11\n",
            "  9 10  7  2  3 10 10  9  8  8 10  0  9  1  9  5  5  9  3  4  7  7  7 11\n",
            "  7  6  5  4  0 11  3  1  7 11  5 11  0 10  5  2  7  5  0 11  7 11  0  7\n",
            "  0 10 11  2  5  0  9  0  0  2  1  1  7  7  7  7  7 11 10  5  6  7  6  1\n",
            "  9  7  2  7 10 11  9  7  0  9  7  2  2  8  7  7  7  1 10  3  6  6  9  2\n",
            "  7  7  7  2  2  2  2  9  1  7 10  5  9  3  1  0 11  6  2  0  0  1  7  9\n",
            "  6  8  2  7  7  7  7  1 10  2  1  1  6  5  5  9  1 11  7 11  4  4  0  6\n",
            "  5  7  6  7  6  7 11 11  0  7  7 11 10 10  6  2  7  2  0  5 11  5  7  2\n",
            "  7  4  9  2  7  2  5  7  7 11  7  9  3  5  6  0  0  9  9]\n"
          ]
        }
      ]
    },
    {
      "cell_type": "code",
      "source": [
        "from sklearn.preprocessing import StandardScaler\n",
        "sc = StandardScaler()\n",
        "x_train[:, 3:] = sc.fit_transform(x_train[:, 3:])\n",
        "x_test[:, 3:] = sc.transform(x_test[:, 3:])"
      ],
      "metadata": {
        "id": "tq_H93vUJnBq"
      },
      "execution_count": 17,
      "outputs": []
    },
    {
      "cell_type": "code",
      "source": [
        "print(x_train)"
      ],
      "metadata": {
        "colab": {
          "base_uri": "https://localhost:8080/"
        },
        "id": "DhA8bsvZJq88",
        "outputId": "b6a6802d-0a32-4df1-a206-ce9305dd54ad"
      },
      "execution_count": 18,
      "outputs": [
        {
          "output_type": "stream",
          "name": "stdout",
          "text": [
            "[[0.0 1.0 'chattanooga indie' ... -1.6732634537480016 1.2780592983329702\n",
            "  0.5390210244213054]\n",
            " [1.0 0.0 'arkansas hip hop' ... 1.7650570339027283 -0.5802020019457286\n",
            "  1.482124881293646]\n",
            " [0.0 1.0 \"british children's music\" ... -1.157010889877379\n",
            "  1.5851553461800043 0.7772788408943179]\n",
            " ...\n",
            " [0.0 1.0 'french opera' ... -0.8197080281301841 -1.1697656042833995\n",
            "  -1.9091649317881312]\n",
            " [0.0 1.0 'bass music' ... 0.8589304357816678 -0.7028030820690697\n",
            "  0.609753813686731]\n",
            " [0.0 1.0 'folk rock italiano' ... -0.03646665364232733 0.706068143407557\n",
            "  0.7230751876467078]]\n"
          ]
        }
      ]
    },
    {
      "cell_type": "code",
      "source": [
        "print(x_test)"
      ],
      "metadata": {
        "colab": {
          "base_uri": "https://localhost:8080/"
        },
        "id": "GHUUUtWHJt8L",
        "outputId": "b9c32995-eb69-4c2b-d317-969fa72c7ad1"
      },
      "execution_count": 19,
      "outputs": [
        {
          "output_type": "stream",
          "name": "stdout",
          "text": [
            "[[0.0 1.0 'north carolina indie' ... -0.026102769297495207\n",
            "  -0.8435431758281698 0.48436187828926197]\n",
            " [0.0 1.0 'romantico' ... -0.13681462397418448 0.6343622557878053\n",
            "  -0.3783451053629019]\n",
            " [0.0 1.0 'orquesta tipica' ... 1.0744632336353321 1.0934457281086014\n",
            "  -2.1650504796795462]\n",
            " ...\n",
            " [0.0 1.0 'socal pop punk' ... 0.7629281792837704 0.2894226023496271\n",
            "  0.42860530196698476]\n",
            " [0.0 1.0 'birmingham metal' ... 0.4269477594097078 -0.6901752992946766\n",
            "  -0.17061089986477693]\n",
            " [0.0 1.0 'nz hardcore' ... 1.2725011199931078 0.5053660166533329\n",
            "  0.5390210244213054]]\n"
          ]
        }
      ]
    }
  ]
}